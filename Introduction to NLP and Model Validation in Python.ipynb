{
 "cells": [
  {
   "cell_type": "markdown",
   "id": "4608784e",
   "metadata": {},
   "source": [
    "# Introduction to NLP and Model Validation in Python"
   ]
  },
  {
   "cell_type": "markdown",
   "id": "c5ddede8",
   "metadata": {},
   "source": [
    "# Introduction to Natural Language Processing in Python"
   ]
  },
  {
   "cell_type": "markdown",
   "id": "b51c71ef",
   "metadata": {},
   "source": [
    "Natural language processing (NLP) is a field that focuses on making computer algorithms understand natural human language. Natural Language Toolkit, or NLTK, is a Python package that can be used for NLP.\n",
    "\n",
    "Unstructured data with human-readable text makes up a large portion of the data you could be examining. You must first preprocess the data before you can analyze it programmatically. This tutorial will provide you an overview of the different types of text preparation tasks you may perform with NLTK so that you can use them in future projects. You'll also learn how to do some basic text analysis and visualize data."
   ]
  },
  {
   "cell_type": "markdown",
   "id": "c23709a1",
   "metadata": {},
   "source": [
    "Tokenizing"
   ]
  },
  {
   "cell_type": "markdown",
   "id": "08c1e356",
   "metadata": {},
   "source": [
    "You may easily split up text by word or sentence by tokenizing it. This will enable you to work with smaller chunks of text that are still somewhat cohesive and comprehensible even when taken out of context. It's the initial step toward transforming unstructured data into structured data that can be analyzed more easily.\n",
    "\n",
    "When analyzing text, you'll tokenize words by word and sentences by sentence. Here are the benefits of both forms of tokenization:"
   ]
  },
  {
   "cell_type": "markdown",
   "id": "6b6bfdaf",
   "metadata": {},
   "source": [
    "- Tokenizing by word:\n",
    "    Words are the atoms of natural language. They're the tiniest unit of meaning that can nevertheless be understood on its own. Tokenizing your text word by word allows you to spot words that appear frequently. If you were to look at a bunch of employment adverts, you could notice that the word \"Python\" appears frequently. That could indicate a significant demand for Python expertise, but you'd have to dig deeper to find out.\n",
    "\n",
    "- Tokenizing by sentence:\n",
    "    Tokenizing by sentence allows you to see more context and understand how the words relate to one another. Is the word \"Python\" surrounded by a lot of bad adjectives because the recruiting manager dislikes Python? Is there a greater number of phrases from the area of herpetology than from the domain of software development, indicating that you may be working with a whole different type of Python than you anticipated?\n",
    "    "
   ]
  },
  {
   "cell_type": "markdown",
   "id": "9b512c13",
   "metadata": {},
   "source": [
    "To tokenize by word and sentence, import the required components of NLTK as follows:"
   ]
  },
  {
   "cell_type": "code",
   "execution_count": 1,
   "id": "4936f570",
   "metadata": {},
   "outputs": [],
   "source": [
    "from nltk.tokenize import sent_tokenize, word_tokenize"
   ]
  },
  {
   "cell_type": "markdown",
   "id": "2808efe4",
   "metadata": {},
   "source": [
    "You can now generate a string to tokenize once you've imported everything you need. You can use the following quote from Dune:"
   ]
  },
  {
   "cell_type": "code",
   "execution_count": 6,
   "id": "c929ce3e",
   "metadata": {},
   "outputs": [],
   "source": [
    "example_string = \"\"\"\n",
    "Muad'Dib learned rapidly because his first training was in how to learn.\n",
    "And the first lesson of all was the basic trust that he could learn.\n",
    "It's shocking to find how many people do not believe they can learn,\n",
    "and how many more believe learning to be difficult.\"\"\""
   ]
  },
  {
   "cell_type": "markdown",
   "id": "7ba5be6a",
   "metadata": {},
   "source": [
    "To separate example string into sentences, use sent_tokenize():"
   ]
  },
  {
   "cell_type": "code",
   "execution_count": 11,
   "id": "943fd5f4",
   "metadata": {},
   "outputs": [
    {
     "name": "stdout",
     "output_type": "stream",
     "text": [
      "showing info https://raw.githubusercontent.com/nltk/nltk_data/gh-pages/index.xml\n"
     ]
    },
    {
     "data": {
      "text/plain": [
       "True"
      ]
     },
     "execution_count": 11,
     "metadata": {},
     "output_type": "execute_result"
    }
   ],
   "source": [
    "import nltk\n",
    "import ssl\n",
    "\n",
    "try:\n",
    "    _create_unverified_https_context = ssl._create_unverified_context\n",
    "except AttributeError:\n",
    "    pass\n",
    "else:\n",
    "    ssl._create_default_https_context = _create_unverified_https_context\n",
    "\n",
    "nltk.download()"
   ]
  },
  {
   "cell_type": "code",
   "execution_count": 12,
   "id": "b563c08a",
   "metadata": {},
   "outputs": [
    {
     "data": {
      "text/plain": [
       "[\"\\nMuad'Dib learned rapidly because his first training was in how to learn.\",\n",
       " 'And the first lesson of all was the basic trust that he could learn.',\n",
       " \"It's shocking to find how many people do not believe they can learn,\\nand how many more believe learning to be difficult.\"]"
      ]
     },
     "execution_count": 12,
     "metadata": {},
     "output_type": "execute_result"
    }
   ],
   "source": [
    "sent_tokenize(example_string)"
   ]
  },
  {
   "cell_type": "markdown",
   "id": "3bc99157",
   "metadata": {},
   "source": [
    "Tokenizing example_string by sentence gives you a list of three strings that are sentences:\n",
    "\n",
    "1. \"Muad'Dib learned rapidly because his first training was in how to learn.\"\n",
    "2. 'And the first lesson of all was the basic trust that he could learn.'\n",
    "3. \"It's shocking to find how many people do not believe they can learn, and how many more believe learning to be difficult.\""
   ]
  },
  {
   "cell_type": "markdown",
   "id": "b92b8ff4",
   "metadata": {},
   "source": [
    "Now try tokenizing example_string by word:"
   ]
  },
  {
   "cell_type": "code",
   "execution_count": 13,
   "id": "9485abda",
   "metadata": {},
   "outputs": [
    {
     "data": {
      "text/plain": [
       "[\"Muad'Dib\",\n",
       " 'learned',\n",
       " 'rapidly',\n",
       " 'because',\n",
       " 'his',\n",
       " 'first',\n",
       " 'training',\n",
       " 'was',\n",
       " 'in',\n",
       " 'how',\n",
       " 'to',\n",
       " 'learn',\n",
       " '.',\n",
       " 'And',\n",
       " 'the',\n",
       " 'first',\n",
       " 'lesson',\n",
       " 'of',\n",
       " 'all',\n",
       " 'was',\n",
       " 'the',\n",
       " 'basic',\n",
       " 'trust',\n",
       " 'that',\n",
       " 'he',\n",
       " 'could',\n",
       " 'learn',\n",
       " '.',\n",
       " 'It',\n",
       " \"'s\",\n",
       " 'shocking',\n",
       " 'to',\n",
       " 'find',\n",
       " 'how',\n",
       " 'many',\n",
       " 'people',\n",
       " 'do',\n",
       " 'not',\n",
       " 'believe',\n",
       " 'they',\n",
       " 'can',\n",
       " 'learn',\n",
       " ',',\n",
       " 'and',\n",
       " 'how',\n",
       " 'many',\n",
       " 'more',\n",
       " 'believe',\n",
       " 'learning',\n",
       " 'to',\n",
       " 'be',\n",
       " 'difficult',\n",
       " '.']"
      ]
     },
     "execution_count": 13,
     "metadata": {},
     "output_type": "execute_result"
    }
   ],
   "source": [
    "word_tokenize(example_string)"
   ]
  },
  {
   "cell_type": "markdown",
   "id": "c2c78862",
   "metadata": {},
   "source": [
    "You got a list of strings that NLTK considers to be words, such as:\n",
    "\n",
    "- \"Muad'Dib\"\n",
    "- 'training'\n",
    "- 'how'\n",
    "\n",
    "But the following strings were also considered to be words:\n",
    "\n",
    "- \"'s\"\n",
    "- ','\n",
    "- '.'"
   ]
  },
  {
   "cell_type": "markdown",
   "id": "7c4328e3",
   "metadata": {},
   "source": [
    "See how \"It's\" was split at the apostrophe to give you 'It' and \"'s\", but \"Muad'Dib\" was left whole? This happened because NLTK knows that 'It' and \"'s\" (a contraction of “is”) are two distinct words, so it counted them separately. But \"Muad'Dib\" isn’t an accepted contraction like \"It's\", so it wasn’t read as two separate words and was left intact.\n",
    "\n"
   ]
  },
  {
   "cell_type": "markdown",
   "id": "7a4c32df",
   "metadata": {},
   "source": [
    "# Filtering Stop Words"
   ]
  },
  {
   "cell_type": "markdown",
   "id": "f2a14232",
   "metadata": {},
   "source": [
    "Stop words are terms that you want to ignore and filter out of your text while it's being processed. Stop words like 'in,' 'is,' and 'an' are frequently employed as stop words because they don't offer much significance to a text on their own."
   ]
  },
  {
   "cell_type": "markdown",
   "id": "b866650f",
   "metadata": {},
   "source": [
    "# Stemming"
   ]
  },
  {
   "cell_type": "markdown",
   "id": "8a36adba",
   "metadata": {},
   "source": [
    "Stemming is a text processing task that involves reducing words to their root, or the most fundamental portion of the word. The roots of the terms \"helping\" and \"helper,\" for example, are the same. Stemming allows you to focus on a word's essential meaning rather than the specifics of how it's being used."
   ]
  },
  {
   "cell_type": "markdown",
   "id": "6031173e",
   "metadata": {},
   "source": [
    "Understemming and overstemming are two ways stemming can go wrong:\n",
    "\n",
    "- Understemming happens when two related words should be reduced to the same stem but aren’t. This is a false negative.\n",
    "\n",
    "- Overstemming happens when two unrelated words are reduced to the same stem even though they shouldn’t be. This is a false positive.\n"
   ]
  },
  {
   "cell_type": "markdown",
   "id": "ed747e20",
   "metadata": {},
   "source": [
    "# Tagging Parts of Speech"
   ]
  },
  {
   "cell_type": "markdown",
   "id": "49e6ad1c",
   "metadata": {},
   "source": [
    "Part of speech is a grammatical term that refers to the roles that words play in sentences when they are used together. Parts of speech tagging, or POS tagging, is the process of classifying words in your text according to their function.\n",
    "There are eight parts of speech in English:"
   ]
  },
  {
   "cell_type": "markdown",
   "id": "c4b774d4",
   "metadata": {},
   "source": [
    "Some sources put category articles (such as \"a\" or \"the\") among the parts of speech, whereas others consider them adjectives. Articles are referred to as determiners in NLTK."
   ]
  },
  {
   "cell_type": "markdown",
   "id": "140148e4",
   "metadata": {},
   "source": [
    "# Lemmatizing"
   ]
  },
  {
   "cell_type": "markdown",
   "id": "fdff602a",
   "metadata": {},
   "source": [
    "You can return to lemmatizing now that you're familiar with components of speech. Lemmatizing, like stemming, reduces words to their basic meaning, but instead of a fragment of a word like 'discoveri,' it gives you a whole English word that makes sense on its own."
   ]
  },
  {
   "cell_type": "markdown",
   "id": "effa9fb3",
   "metadata": {},
   "source": [
    "A lemma is a word that represents an entire set of words, which is referred to as a lexeme."
   ]
  },
  {
   "cell_type": "markdown",
   "id": "fda84a74",
   "metadata": {},
   "source": [
    "# Chunking"
   ]
  },
  {
   "cell_type": "markdown",
   "id": "ad9dd205",
   "metadata": {},
   "source": [
    "Tokenizing helps you to recognize words and sentences, whereas chunking allows you to recognize phrases."
   ]
  },
  {
   "cell_type": "markdown",
   "id": "4ad227d4",
   "metadata": {},
   "source": [
    "A phrase is a word or group of words that works as a single unit to perform a grammatical function. Noun phrases are built around a noun."
   ]
  },
  {
   "cell_type": "markdown",
   "id": "8313f723",
   "metadata": {},
   "source": [
    "Chunking groups words using POS tags and then applies chunk tags to those groups. Because chunks don't overlap, each word can only appear in one chunk at a time."
   ]
  },
  {
   "cell_type": "markdown",
   "id": "687ffaa6",
   "metadata": {},
   "source": [
    "A chunk grammar is a set of rules that govern the chunking of sentences. Regexes, or regular expressions, are frequently used."
   ]
  },
  {
   "cell_type": "markdown",
   "id": "bdb6d354",
   "metadata": {},
   "source": [
    "# Chinking"
   ]
  },
  {
   "cell_type": "markdown",
   "id": "eae74c73",
   "metadata": {},
   "source": [
    "Chinking and chunking go hand in hand, although chinking is used to eliminate patterns while chunking is used to add them."
   ]
  },
  {
   "cell_type": "markdown",
   "id": "34553307",
   "metadata": {},
   "source": [
    "# Using Named Entity Recognition (NER)"
   ]
  },
  {
   "cell_type": "markdown",
   "id": "24095004",
   "metadata": {},
   "source": [
    "Noun phrases that relate to specific locations, individuals, organizations, and so on are referred to as named entities. You may find named entities in your texts and determine what type of named entity they are using named entity recognition."
   ]
  },
  {
   "cell_type": "code",
   "execution_count": null,
   "id": "3f70d5ac",
   "metadata": {},
   "outputs": [],
   "source": []
  },
  {
   "cell_type": "markdown",
   "id": "37f4b62e",
   "metadata": {},
   "source": [
    "# Model Validation in Python\n"
   ]
  },
  {
   "cell_type": "markdown",
   "id": "e57e93a8",
   "metadata": {},
   "source": [
    "Model validation is a technique for determining how near a model's predictions are to reality. Model validation, on the other hand, refers to calculating the accuracy (or evaluation metric) of the model you're training.\n",
    "\n",
    "There are several methods for validating your machine learning models, which we'll go over below:"
   ]
  },
  {
   "cell_type": "markdown",
   "id": "dcc39f6d",
   "metadata": {},
   "source": [
    "# 1. Model Validation with Gradio"
   ]
  },
  {
   "cell_type": "markdown",
   "id": "4d46aeba",
   "metadata": {},
   "source": [
    "While this isn't strictly a technique, I consider it a plus because it can be used as an additional validation step for nearly any machine learning model.\n",
    "Gradio was introduced to me about a month ago, and I've been a vocal supporter ever since. It comes in handy for a variety of reasons, including the opportunity to validate and test your model using your own data."
   ]
  },
  {
   "cell_type": "markdown",
   "id": "82e8500a",
   "metadata": {},
   "source": [
    "Gradio incredibly useful when validating my models for the following reasons:\n",
    "\n",
    "1. It allows me to interactively test different inputs into the model.\n",
    "2. It allows me to get feedback from domain users and domain experts (who may be non-coders)\n",
    "3. It takes 3 lines of code to implement and it can be easily distributed via a public link."
   ]
  },
  {
   "cell_type": "markdown",
   "id": "cf39da06",
   "metadata": {},
   "source": [
    "# 2. Train/Validate/Test Split"
   ]
  },
  {
   "cell_type": "markdown",
   "id": "002d7f43",
   "metadata": {},
   "source": [
    "This is the most popular method for model validation. The model's dataset is divided into three sections: training, validation, and the test sample. These sets are defined as follows:"
   ]
  },
  {
   "cell_type": "markdown",
   "id": "02e08787",
   "metadata": {},
   "source": [
    "- Training set: The dataset on which a model trains. All the learning happens on this set of data.\n",
    "\n",
    "- Validation set: This dataset is used to tune the model(s) trained from the dataset. Here, this is also when a final model is chosen to be tested using the test set.\n",
    "\n",
    "- Test set: The generalizability of a model is tested against the test set. It is the final stage of evaluation as it gives a signal if the model is ready for real-life application or not."
   ]
  },
  {
   "cell_type": "markdown",
   "id": "9e8cea92",
   "metadata": {},
   "source": [
    "The purpose of this strategy is to see how the model responds to new data. The dataset is divided into percentages based on the scope of your project and the quantity of resources available."
   ]
  },
  {
   "cell_type": "markdown",
   "id": "8bdd05df",
   "metadata": {},
   "source": [
    "The following python code implements this method. The training, validation, and test set will be 60%, 20%, and 20% of the total dataset respectively:"
   ]
  },
  {
   "cell_type": "code",
   "execution_count": 16,
   "id": "f23d36ac",
   "metadata": {},
   "outputs": [
    {
     "ename": "NameError",
     "evalue": "name 'X' is not defined",
     "output_type": "error",
     "traceback": [
      "\u001b[0;31m---------------------------------------------------------------------------\u001b[0m",
      "\u001b[0;31mNameError\u001b[0m                                 Traceback (most recent call last)",
      "Input \u001b[0;32mIn [16]\u001b[0m, in \u001b[0;36m<module>\u001b[0;34m\u001b[0m\n\u001b[1;32m      1\u001b[0m \u001b[38;5;28;01mfrom\u001b[39;00m \u001b[38;5;21;01msklearn\u001b[39;00m\u001b[38;5;21;01m.\u001b[39;00m\u001b[38;5;21;01mmodel_selection\u001b[39;00m \u001b[38;5;28;01mimport\u001b[39;00m train_test_split\n\u001b[0;32m----> 2\u001b[0m X_train, X_test, y_train, y_test \u001b[38;5;241m=\u001b[39m train_test_split(\u001b[43mX\u001b[49m, y, test_size\u001b[38;5;241m=\u001b[39m\u001b[38;5;241m0.2\u001b[39m, random_state\u001b[38;5;241m=\u001b[39m\u001b[38;5;241m1\u001b[39m)\n\u001b[1;32m      3\u001b[0m X_train, X_val, y_train, y_val \u001b[38;5;241m=\u001b[39m train_test_split( X_train, y_train, test_size\u001b[38;5;241m=\u001b[39m\u001b[38;5;241m0.25\u001b[39m, random_state\u001b[38;5;241m=\u001b[39m\u001b[38;5;241m1\u001b[39m)\n",
      "\u001b[0;31mNameError\u001b[0m: name 'X' is not defined"
     ]
    }
   ],
   "source": [
    "from sklearn.model_selection import train_test_split\n",
    "X_train, X_test, y_train, y_test = train_test_split(X, y, test_size=0.2, random_state=1)\n",
    "X_train, X_val, y_train, y_val = train_test_split( X_train, y_train, test_size=0.25, random_state=1)"
   ]
  },
  {
   "cell_type": "markdown",
   "id": "dfa80fdc",
   "metadata": {},
   "source": [
    "# 3. K-Fold Cross-Validation"
   ]
  },
  {
   "cell_type": "markdown",
   "id": "21665c84",
   "metadata": {},
   "source": [
    "The train/test split is solved by using K-fold cross-validation. K-fold cross-validation divides the dataset into K folds or portions, with each fold serving as a test set at some point.\n",
    "\n",
    "Consider a 4-fold cross-validation set: with four folds, the model will be evaluated four times, with each fold serving as the test set and the remaining folds serving as the training set. The final evaluation of the model is just the average of all k tests. The technique is well demonstrated in the figure below."
   ]
  },
  {
   "cell_type": "code",
   "execution_count": 19,
   "id": "9ff490d3",
   "metadata": {},
   "outputs": [
    {
     "ename": "SyntaxError",
     "evalue": "invalid character '‘' (U+2018) (4186479282.py, line 11)",
     "output_type": "error",
     "traceback": [
      "\u001b[0;36m  Input \u001b[0;32mIn [19]\u001b[0;36m\u001b[0m\n\u001b[0;31m    model = LogisticRegression(solver=‘liblinear’)\u001b[0m\n\u001b[0m                                      ^\u001b[0m\n\u001b[0;31mSyntaxError\u001b[0m\u001b[0;31m:\u001b[0m invalid character '‘' (U+2018)\n"
     ]
    }
   ],
   "source": [
    "from sklearn.datasets import load_iris\n",
    "import pandas as pd\n",
    "from sklearn.model_selection import KFold\n",
    "from sklearn.linear_model import LogisticRegression\n",
    "from sklearn.metrics import accuracy_score\n",
    "data = load_iris(as_frame = True)\n",
    "df = data.frame\n",
    "X = df.iloc[:,:-1]\n",
    "y = df.iloc[:,-1]\n",
    "kf = KFold(n_splits=5, random_state=None)\n",
    "model = LogisticRegression(solver=‘liblinear’)\n",
    "acc_score = []\n",
    "for train_index , test_index in kf.split(X):\n",
    "   X_train , X_test = X.iloc[train_index,:],X.iloc[test_index,:]\n",
    "   y_train , y_test = y[train_index] , y[test_index]\n",
    "   model.fit(X_train,y_train)\n",
    "   pred_values = model.predict(X_test)\n",
    "   acc = accuracy_score(pred_values , y_test)\n",
    "   acc_score.append(acc)\n",
    "avg_acc_score = sum(acc_score)/k\n",
    "print(‘accuracy of each fold — {}’.format(acc_score))\n",
    "print(‘Avg accuracy : {}’.format(avg_acc_score))"
   ]
  },
  {
   "cell_type": "markdown",
   "id": "c5839f16",
   "metadata": {},
   "source": [
    "# 4. Leave-one-out Cross-Validation"
   ]
  },
  {
   "cell_type": "markdown",
   "id": "990b20b5",
   "metadata": {},
   "source": [
    "Leave-one-out is a variant of K fold validation in which the training set contains all occurrences of the dataset except one data point, and the test set contains the remaining observation. Let's say we have a dataset with M instances, with M-1 as the training set and one as the test set.\n",
    "\n",
    "This clarifies the approach's name. For each instance in the dataset, one model is constructed and tested in LOOCV. The requirement for data sampling is eliminated because the method uses every instant."
   ]
  },
  {
   "cell_type": "markdown",
   "id": "f8c91eb7",
   "metadata": {},
   "source": [
    "The python implementation of it is given as follows:"
   ]
  },
  {
   "cell_type": "code",
   "execution_count": 20,
   "id": "6eb5f2eb",
   "metadata": {},
   "outputs": [
    {
     "name": "stdout",
     "output_type": "stream",
     "text": [
      "Accuracy: 0.990\n"
     ]
    }
   ],
   "source": [
    "from sklearn.datasets import make_blobs\n",
    "from sklearn.model_selection import LeaveOneOut\n",
    "from sklearn.ensemble import RandomForestClassifier\n",
    "from sklearn.metrics import accuracy_score\n",
    "# create dataset\n",
    "X, y = make_blobs(n_samples=100, random_state=1)\n",
    "# create loocv procedure\n",
    "cv = LeaveOneOut()\n",
    "# enumerate splits\n",
    "y_true, y_pred = list(), list()\n",
    "for train_ix, test_ix in cv.split(X):\n",
    "   # split data\n",
    "   X_train, X_test = X[train_ix, :], X[test_ix, :]\n",
    "   y_train, y_test = y[train_ix], y[test_ix]\n",
    "   # fit model\n",
    "   model = RandomForestClassifier(random_state=1)\n",
    "   model.fit(X_train, y_train)\n",
    "   # evaluate model\n",
    "   yhat = model.predict(X_test)\n",
    "   # store\n",
    "   y_true.append(y_test[0]) \n",
    "   y_pred.append(yhat[0])\n",
    "# calculate accuracy\n",
    "acc = accuracy_score(y_true, y_pred)\n",
    "print('Accuracy: %.3f' % acc)"
   ]
  },
  {
   "cell_type": "markdown",
   "id": "277e782d",
   "metadata": {},
   "source": [
    "# 4. Stratified K-Fold Cross-Validation"
   ]
  },
  {
   "cell_type": "markdown",
   "id": "3171306b",
   "metadata": {},
   "source": [
    "The stratified k-fold method is an extension of the simple k-cross-validation approach, which is typically used to solve classification problems. Unlike k-cross-validation, the splits in this method are not random. Stratification guarantees that each test fold is representative of all strata of the data, with each class being equally represented throughout all test folds.\n",
    "\n",
    "Let's look at a simple classification problem where our machine learning model determines whether the image contains a cat or a dog. If we have a dataset with 70% of photographs of cats and 30% of pictures of dogs, we will keep the 70/30 ratio for each fold in the stratified k-Fold."
   ]
  },
  {
   "cell_type": "markdown",
   "id": "61da8c2e",
   "metadata": {},
   "source": [
    "When working with smaller datasets and maintaining the class ratio, this strategy is ideal. To satisfy the required requirements, the data is sometimes over or undersampled.\n",
    "\n",
    "The following is how the Python implementation works. The StratifiedKFold function is provided by Sklearn."
   ]
  },
  {
   "cell_type": "code",
   "execution_count": 22,
   "id": "774a91b3",
   "metadata": {},
   "outputs": [
    {
     "ename": "SyntaxError",
     "evalue": "EOL while scanning string literal (3837404810.py, line 9)",
     "output_type": "error",
     "traceback": [
      "\u001b[0;36m  Input \u001b[0;32mIn [22]\u001b[0;36m\u001b[0m\n\u001b[0;31m    print('TRAIN:'', train_index, “TEST:”, test_index)\u001b[0m\n\u001b[0m                                                      ^\u001b[0m\n\u001b[0;31mSyntaxError\u001b[0m\u001b[0;31m:\u001b[0m EOL while scanning string literal\n"
     ]
    }
   ],
   "source": [
    "import numpy as np\n",
    "from sklearn.model_selection import StratifiedKFold\n",
    "X = np.array([[1, 2], [3, 4], [1, 2], [3, 4]])\n",
    "y = np.array([0, 0, 1, 1])\n",
    "skf = StratifiedKFold(n_splits=2)\n",
    "skf.get_n_splits(X, y)\n",
    "print(skf)\n",
    "for train_index, test_index in skf.split(X, y):\n",
    "   print(“TRAIN:”, train_index, “TEST:”, test_index)\n",
    "   X_train, X_test = X[train_index], X[test_index]\n",
    "   y_train, y_test = y[train_index], y[test_index]"
   ]
  },
  {
   "cell_type": "code",
   "execution_count": null,
   "id": "d0d89aa9",
   "metadata": {},
   "outputs": [],
   "source": []
  }
 ],
 "metadata": {
  "kernelspec": {
   "display_name": "Python 3 (ipykernel)",
   "language": "python",
   "name": "python3"
  },
  "language_info": {
   "codemirror_mode": {
    "name": "ipython",
    "version": 3
   },
   "file_extension": ".py",
   "mimetype": "text/x-python",
   "name": "python",
   "nbconvert_exporter": "python",
   "pygments_lexer": "ipython3",
   "version": "3.9.10"
  }
 },
 "nbformat": 4,
 "nbformat_minor": 5
}
